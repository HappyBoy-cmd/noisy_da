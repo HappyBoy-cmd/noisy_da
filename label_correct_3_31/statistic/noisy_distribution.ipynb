{
 "cells": [
  {
   "cell_type": "code",
   "execution_count": 2,
   "metadata": {},
   "outputs": [],
   "source": [
    "import pickle\n",
    "import numpy as np\n",
    "import matplotlib.pyplot as plt\n",
    "\n",
    "# fig, axs = plt.subplots(1, 2, sharey=True, tight_layout=True)\n",
    "# ax[x,y].hist([normalized_loss[wrong_mask], normalized_loss[correct_mask]], \\\n",
    "#          histtype='stepfilled', bins=300, density=True, stacked=False,\\\n",
    "#          label=['incorrect', 'correct'], alpha=0.5)  # clor= ['g','r']\n",
    "# ax[x,y].set_xlim(0, 1)\n",
    "#    ax[x,y].hist(normalized_loss[wrong_mask], label='Mislabeled', stacked=True, bins=100, alpha=0.5, normed=True)\n",
    "#    ax[x,y].hist(normalized_loss[correct_mask], label='Correct', stacked=True, bins=100,  alpha=0.5, normed=True, color='red')\n",
    "\n",
    "\n",
    "#plot Loss distribution\n",
    "# import matplotlib.pyplot as plt\n",
    "# plt.figure()\n",
    "# plt.hist([normalized_loss[wrong_mask], normalized_loss[correct_mask]], \\\n",
    "#         histtype='stepfilled', bins=100, density=True, stacked=True,\\\n",
    "#         label=['wrong label', 'correct label'], alpha=0.5)  # clor= ['g','r']\n",
    "# plt.legend()\n",
    "# plt.xlabel(\"normalized loss\")\n",
    "# plt.ylabel(\"probability density\")\n",
    "#plt.title('Normalized loss pdf in %.1f noise label'%noise_rate)\n",
    "\n",
    "# from sklearn.neighbors.kde import KernelDensity\n",
    "# kde = KernelDensity(bandwidth=0.01).fit(normalized_loss.reshape(-1,1))\n",
    "# x_axis = np.linspace(0,1,100)\n",
    "# density = np.exp(kde.score_samples(x_axis.reshape(-1,1)))\n",
    "# plt.plot(x_axis, density, label='kde')\n",
    "# plt.legend()"
   ]
  },
  {
   "cell_type": "code",
   "execution_count": 3,
   "metadata": {},
   "outputs": [],
   "source": [
    "# # ood noise\n",
    "# loss_file = \"sample_selection-amazon-ood-noisy-0.4-2020-12-24-09-16-23.pkl.npy\"\n",
    "# loss_list_matrix = np.load(loss_file)\n",
    "# # with open(loss_file,\"rb\") as f:\n",
    "# #     loss_list = pickle.load(f)\n",
    "# print(loss_list_matrix.shape)\n",
    "# all_mean_loss = np.mean(loss_list_matrix, axis=1)\n",
    "# print(all_mean_loss.shape)\n",
    "\n",
    "# source_file =  \"/home/ubuntu/nas/projects/RDA/data/Office-31/amazon_ood_noisy_0.4.txt\"\n",
    "# with open(source_file, 'r') as f:\n",
    "#     file_dir, true_labels, noise_labels = [], [], []\n",
    "#     for i in f.read().splitlines():\n",
    "#         file_dir.append(i.split(' ')[0])\n",
    "#         true_labels.append(int(i.split(' ')[1]))\n",
    "#         noise_labels.append(int(i.split(' ')[2]))\n",
    "# true_labels = np.array(true_labels)\n",
    "# noise_labels = np.array(noise_labels)\n",
    "# normalized_loss = all_mean_loss / np.max(all_mean_loss)\n",
    "# wrong_mask = noise_labels != true_labels\n",
    "# correct_mask = noise_labels == true_labels\n",
    "# print(correct_mask)"
   ]
  },
  {
   "cell_type": "code",
   "execution_count": 4,
   "metadata": {
    "tags": []
   },
   "outputs": [],
   "source": [
    "# mixed noise\n",
    "# loss_file = \"sample_selection-amazon-ood_feature_uniform-noisy-0.6-2021-01-15-10-51-27.pkl.npy\"\n",
    "\n",
    "# loss_list_matrix = np.load(loss_file)\n",
    "# # with open(loss_file,\"rb\") as f:\n",
    "# #     loss_list = pickle.load(f)\n",
    "# print(loss_list_matrix.shape)\n",
    "# all_mean_loss = np.mean(loss_list_matrix, axis=1)\n",
    "# normalized_loss = all_mean_loss / np.max(all_mean_loss)\n",
    "# print(all_mean_loss.shape)\n",
    "\n",
    "# source_file =  \"/home/ubuntu/nas/projects/RDA/data/Office-31/amazon_ood_feature_uniform_noisy_0.6.txt\"\n",
    "# with open(source_file, 'r') as f:\n",
    "#     file_dir = []\n",
    "#     true_mask = np.zeros((all_mean_loss.shape[0]), dtype=bool)\n",
    "#     print(true_mask.shape)\n",
    "#     noise_labels_mask = np.zeros((all_mean_loss.shape[0]), dtype=bool)\n",
    "#     noise_feature_mask = np.zeros((all_mean_loss.shape[0]), dtype=bool)\n",
    "#     noise_ood_mask = np.zeros((all_mean_loss.shape[0]), dtype=bool)\n",
    "#     for j, i in enumerate(f.read().splitlines()):\n",
    "#         file_dir.append(i.split(' ')[0])\n",
    "#         if int(i.split(' ')[1]) == int(i.split(' ')[2]):\n",
    "#             if i.split(' ')[0].split('_')[-1] == 'corrupted.jpg':\n",
    "#                 noise_feature_mask[j] = 1\n",
    "#             else:\n",
    "#                 true_mask[j] = 1\n",
    "#         else:\n",
    "#             if int(i.split(' ')[2]) == \"32\":\n",
    "#                 noise_ood_mask[j] = 1\n",
    "#             else:\n",
    "#                 noise_labels_mask[j] = 1\n",
    "# print(true_mask, noise_labels_mask, noise_feature_mask, noise_ood_mask)\n",
    "# true_labels = np.array(true_labels)\n",
    "# noise_labels = np.array(noise_labels)\n",
    "# wrong_mask = noise_labels != true_labels\n",
    "# correct_mask = noise_labels == true_labels"
   ]
  },
  {
   "cell_type": "code",
   "execution_count": 5,
   "metadata": {},
   "outputs": [],
   "source": [
    "# plt.figure()\n",
    "# plt.hist([normalized_loss[noise_labels_mask], normalized_loss[noise_feature_mask], normalized_loss[noise_ood_mask], normalized_loss[true_mask]], \\\n",
    "#         histtype='stepfilled', bins=100, density=True, stacked=False,\\\n",
    "#         label=['label noise', 'feature noise', 'open-set noise', 'clean sample'], alpha=0.5, color= ['r', 'g', 'purple','b'])\n",
    "# plt.legend(fontsize=18)\n",
    "# plt.xlabel(\"normalized loss\")\n",
    "# #plt.ylabel(\"probability density\")\n",
    "# plt.savefig(\"mixed-noise.pdf\")"
   ]
  },
  {
   "cell_type": "code",
   "execution_count": 6,
   "metadata": {},
   "outputs": [
    {
     "ename": "NameError",
     "evalue": "name 'normalized_loss' is not defined",
     "output_type": "error",
     "traceback": [
      "\u001b[0;31m---------------------------------------------------------------------------\u001b[0m",
      "\u001b[0;31mNameError\u001b[0m                                 Traceback (most recent call last)",
      "\u001b[0;32m/tmp/ipykernel_3142127/3860066350.py\u001b[0m in \u001b[0;36m<module>\u001b[0;34m\u001b[0m\n\u001b[1;32m      2\u001b[0m \u001b[0msource_file\u001b[0m \u001b[0;34m=\u001b[0m  \u001b[0;34m\"/home/ubuntu/nas/projects/RDA/data/Office-31/amazon_ood_feature_uniform_noisy_0.6.txt\"\u001b[0m\u001b[0;34m\u001b[0m\u001b[0;34m\u001b[0m\u001b[0m\n\u001b[1;32m      3\u001b[0m \u001b[0mplt\u001b[0m\u001b[0;34m.\u001b[0m\u001b[0mfigure\u001b[0m\u001b[0;34m(\u001b[0m\u001b[0;34m)\u001b[0m\u001b[0;34m\u001b[0m\u001b[0;34m\u001b[0m\u001b[0m\n\u001b[0;32m----> 4\u001b[0;31m plt.hist([normalized_loss[wrong_mask], normalized_loss[correct_mask]], \\\n\u001b[0m\u001b[1;32m      5\u001b[0m         \u001b[0mhisttype\u001b[0m\u001b[0;34m=\u001b[0m\u001b[0;34m'stepfilled'\u001b[0m\u001b[0;34m,\u001b[0m \u001b[0mbins\u001b[0m\u001b[0;34m=\u001b[0m\u001b[0;36m50\u001b[0m\u001b[0;34m,\u001b[0m \u001b[0mdensity\u001b[0m\u001b[0;34m=\u001b[0m\u001b[0;32mTrue\u001b[0m\u001b[0;34m,\u001b[0m \u001b[0mstacked\u001b[0m\u001b[0;34m=\u001b[0m\u001b[0;32mTrue\u001b[0m\u001b[0;34m,\u001b[0m\u001b[0;31m\\\u001b[0m\u001b[0;34m\u001b[0m\u001b[0;34m\u001b[0m\u001b[0m\n\u001b[1;32m      6\u001b[0m         label=['open-set noise', 'clean sample'], alpha=0.5, color= ['purple','b'])\n",
      "\u001b[0;31mNameError\u001b[0m: name 'normalized_loss' is not defined"
     ]
    },
    {
     "data": {
      "text/plain": [
       "<Figure size 432x288 with 0 Axes>"
      ]
     },
     "metadata": {},
     "output_type": "display_data"
    }
   ],
   "source": [
    "loss_new_file = \"TCL-A2W-uniform-noisy-0.4-2022-02-22-13-37-40.pkl\"\n",
    "source_file =  \"/home/ubuntu/nas/projects/RDA/data/Office-31/amazon_ood_feature_uniform_noisy_0.6.txt\"\n",
    "plt.figure()\n",
    "plt.hist([normalized_loss[wrong_mask], normalized_loss[correct_mask]], \\\n",
    "        histtype='stepfilled', bins=50, density=True, stacked=True,\\\n",
    "        label=['open-set noise', 'clean sample'], alpha=0.5, color= ['purple','b'])\n",
    "plt.legend(fontsize=18)\n",
    "plt.xlabel(\"normalized loss\")\n",
    "#plt.ylabel(\"probability density\")\n",
    "plt.savefig(\"open-set-noise.pdf\")"
   ]
  },
  {
   "cell_type": "code",
   "execution_count": null,
   "metadata": {},
   "outputs": [],
   "source": []
  }
 ],
 "metadata": {
  "interpreter": {
   "hash": "3b88a17c6ea25ff6a0fa694696fd134b8031ea0728488fe569c4a04932c68947"
  },
  "kernelspec": {
   "display_name": "Python 3.7.6 64-bit ('base': conda)",
   "language": "python",
   "name": "python3"
  },
  "language_info": {
   "codemirror_mode": {
    "name": "ipython",
    "version": 3
   },
   "file_extension": ".py",
   "mimetype": "text/x-python",
   "name": "python",
   "nbconvert_exporter": "python",
   "pygments_lexer": "ipython3",
   "version": "3.7.10"
  },
  "orig_nbformat": 2
 },
 "nbformat": 4,
 "nbformat_minor": 2
}
